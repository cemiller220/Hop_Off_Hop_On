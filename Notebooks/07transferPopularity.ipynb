{
 "cells": [
  {
   "cell_type": "code",
   "execution_count": 149,
   "metadata": {
    "collapsed": true
   },
   "outputs": [],
   "source": [
    "%matplotlib inline\n",
    "import matplotlib\n",
    "import seaborn as sns\n",
    "matplotlib.rcParams['savefig.dpi'] = 144\n",
    "\n",
    "import pandas as pd\n",
    "from ast import literal_eval"
   ]
  },
  {
   "cell_type": "code",
   "execution_count": 61,
   "metadata": {
    "collapsed": true
   },
   "outputs": [],
   "source": []
  },
  {
   "cell_type": "code",
   "execution_count": 2,
   "metadata": {
    "collapsed": false
   },
   "outputs": [],
   "source": [
    "for i in xrange(1,13):\n",
    "    trip_data = pd.read_csv('../Data/Convenience/trip_data_convenience%d.csv'%i,usecols=['stop_id_start_transfer','stop_id_end_transfer','value'])\n",
    "    group_values = pd.DataFrame(trip_data.groupby(['stop_id_start_transfer','stop_id_end_transfer']).sum())\n",
    "    group_values.to_csv('../Data/Convenience/group%d.csv'%i)"
   ]
  },
  {
   "cell_type": "code",
   "execution_count": 3,
   "metadata": {
    "collapsed": true
   },
   "outputs": [],
   "source": [
    "group1 = pd.read_csv('../Data/Convenience/group1.csv')\n",
    "group2 = pd.read_csv('../Data/Convenience/group2.csv')\n",
    "group3 = pd.read_csv('../Data/Convenience/group3.csv')\n",
    "group4 = pd.read_csv('../Data/Convenience/group4.csv')\n",
    "group5 = pd.read_csv('../Data/Convenience/group5.csv')\n",
    "group6 = pd.read_csv('../Data/Convenience/group6.csv')\n",
    "group7 = pd.read_csv('../Data/Convenience/group7.csv')\n",
    "group8 = pd.read_csv('../Data/Convenience/group8.csv')\n",
    "group9 = pd.read_csv('../Data/Convenience/group9.csv')\n",
    "group10 = pd.read_csv('../Data/Convenience/group10.csv')\n",
    "group11 = pd.read_csv('../Data/Convenience/group11.csv')\n",
    "group12 = pd.read_csv('../Data/Convenience/group12.csv')"
   ]
  },
  {
   "cell_type": "code",
   "execution_count": 4,
   "metadata": {
    "collapsed": false
   },
   "outputs": [],
   "source": [
    "popularity = pd.concat([group1,group2,group3,group4,group5,group6,group7,group8,group9,group10,group11,group12]).groupby(['stop_id_start_transfer','stop_id_end_transfer'],as_index=False)['value'].sum()\n",
    "popularity['popularity'] = popularity['value']/popularity['value'].max()\n",
    "popularity.to_csv('../Data/transfer_popularity.csv')"
   ]
  }
 ],
 "metadata": {
  "kernelspec": {
   "display_name": "Python 2",
   "language": "python",
   "name": "python2"
  },
  "language_info": {
   "codemirror_mode": {
    "name": "ipython",
    "version": 2
   },
   "file_extension": ".py",
   "mimetype": "text/x-python",
   "name": "python",
   "nbconvert_exporter": "python",
   "pygments_lexer": "ipython2",
   "version": "2.7.12"
  }
 },
 "nbformat": 4,
 "nbformat_minor": 1
}
