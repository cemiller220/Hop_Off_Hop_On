{
 "cells": [
  {
   "cell_type": "code",
   "execution_count": 39,
   "metadata": {
    "collapsed": true
   },
   "outputs": [],
   "source": [
    "import bisect\n",
    "import datetime\n",
    "import json\n",
    "import random\n",
    "import seaborn\n",
    "import numpy\n",
    "import pandas\n",
    "import math\n",
    "import scipy\n",
    "from matplotlib import pyplot\n",
    "import matplotlib"
   ]
  },
  {
   "cell_type": "code",
   "execution_count": 40,
   "metadata": {
    "collapsed": true
   },
   "outputs": [],
   "source": [
    "matplotlib.rcParams.update({'font.size': 48})"
   ]
  },
  {
   "cell_type": "code",
   "execution_count": null,
   "metadata": {
    "collapsed": true
   },
   "outputs": [],
   "source": []
  },
  {
   "cell_type": "code",
   "execution_count": null,
   "metadata": {
    "collapsed": true
   },
   "outputs": [],
   "source": []
  },
  {
   "cell_type": "code",
   "execution_count": null,
   "metadata": {
    "collapsed": true
   },
   "outputs": [],
   "source": []
  },
  {
   "cell_type": "code",
   "execution_count": null,
   "metadata": {
    "collapsed": true
   },
   "outputs": [],
   "source": []
  },
  {
   "cell_type": "code",
   "execution_count": null,
   "metadata": {
    "collapsed": true
   },
   "outputs": [],
   "source": []
  },
  {
   "cell_type": "code",
   "execution_count": null,
   "metadata": {
    "collapsed": true
   },
   "outputs": [],
   "source": []
  },
  {
   "cell_type": "code",
   "execution_count": null,
   "metadata": {
    "collapsed": true
   },
   "outputs": [],
   "source": []
  },
  {
   "cell_type": "code",
   "execution_count": null,
   "metadata": {
    "collapsed": true
   },
   "outputs": [],
   "source": []
  },
  {
   "cell_type": "code",
   "execution_count": null,
   "metadata": {
    "collapsed": true
   },
   "outputs": [],
   "source": []
  },
  {
   "cell_type": "code",
   "execution_count": 5,
   "metadata": {
    "collapsed": true
   },
   "outputs": [],
   "source": [
    "def parse_time(t):\n",
    "    h, m, s = map(int, t.split(':'))\n",
    "    return h*60*60 + m*60 + s"
   ]
  },
  {
   "cell_type": "code",
   "execution_count": 15,
   "metadata": {
    "collapsed": false
   },
   "outputs": [],
   "source": [
    "sched_trips = {}\n",
    "for i, line in enumerate(open('../Data/stop_times_updated.txt')):\n",
    "    line = line.strip().split(',')\n",
    "    if i>0:\n",
    "        _, trip_id, stop_id, _, _, _, _, _, _, _, arr, dep = line\n",
    "        if 'WKD' not in trip_id:\n",
    "            continue\n",
    "        line = trip_id.split('_')[2].split('.')[0]\n",
    "        key = (stop_id, line)\n",
    "        arr = parse_time(arr)\n",
    "        sched_trips.setdefault(key, []).append(arr)\n",
    "    if i==1000:\n",
    "        break"
   ]
  },
  {
   "cell_type": "code",
   "execution_count": 36,
   "metadata": {
    "collapsed": false
   },
   "outputs": [
    {
     "name": "stdout",
     "output_type": "stream",
     "text": [
      "('255N', '2') not enough stops\n",
      "('251N', '2') not enough stops\n",
      "('248S', '2') not enough stops\n",
      "('248N', '5') not enough stops\n",
      "('257N', '2') not enough stops\n",
      "('256N', '5') not enough stops\n",
      "('253S', '2') not enough stops\n",
      "('255S', '2') not enough stops\n",
      "('249S', '2') not enough stops\n",
      "('A12N', 'B') not enough stops\n",
      "('254S', '2') not enough stops\n",
      "('254N', '5') not enough stops\n",
      "('251S', '2') not enough stops\n",
      "('257S', '2') not enough stops\n",
      "('252N', '2') not enough stops\n",
      "('249N', '2') not enough stops\n",
      "('251N', '5') not enough stops\n",
      "('252S', '2') not enough stops\n",
      "('256S', '2') not enough stops\n",
      "('255N', '5') not enough stops\n",
      "('250S', '2') not enough stops\n",
      "('201N', '5') not enough stops\n",
      "('250N', '2') not enough stops\n",
      "('253N', '5') not enough stops\n",
      "('254N', '2') not enough stops\n",
      "('F01N', 'E') not enough stops\n",
      "('256N', '2') not enough stops\n",
      "('252N', '5') not enough stops\n",
      "('F03N', 'E') not enough stops\n",
      "('253N', '2') not enough stops\n",
      "('257N', '5') not enough stops\n",
      "('248N', '2') not enough stops\n",
      "('249N', '5') not enough stops\n"
     ]
    }
   ],
   "source": [
    "MAX = 1800 #30 minutes\n",
    "max_time = 4*3600\n",
    "\n",
    "xs = []\n",
    "ys = []\n",
    "ys_by_x = [[] for x in xrange(MAX/60)]\n",
    "\n",
    "for key, stops in sched_trips.iteritems():\n",
    "    #print key\n",
    "    stop_id, line = key\n",
    "    stops = sorted(stops)\n",
    "    \n",
    "    if len(stops)<5:\n",
    "        print key, 'not enough stops'\n",
    "        continue\n",
    "    \n",
    "    lo = stops[0]\n",
    "    hi = stops[-1]\n",
    "    for i in xrange(len(stops)):\n",
    "        t = lo + random.random() * (hi-lo)\n",
    "        #j = bisect.bisect(stops, t)\n",
    "        #t0, t1 = stops[j-1], stops[j]\n",
    "        #if t1-t0 > max_time:\n",
    "        #    print t1, t0, 'too large'\n",
    "        #    continue\n",
    "        #real_wait_time = t1 - t\n",
    "        u = (t + (19*60*60)) % (24 * 60 * 60)\n",
    "        j = bisect.bisect(stops,u)\n",
    "        if j < len(stops):\n",
    "            u1 = stops[j]\n",
    "        else:\n",
    "            u1 = 24 * 60 * 60 + stops[0]\n",
    "        sched_wait_time = u1 - u\n",
    "        \n",
    "        if sched_wait_time < MAX:\n",
    "            xs.append(sched_wait_time / 60.)"
   ]
  },
  {
   "cell_type": "code",
   "execution_count": null,
   "metadata": {
    "collapsed": true
   },
   "outputs": [],
   "source": []
  }
 ],
 "metadata": {
  "kernelspec": {
   "display_name": "Python 2",
   "language": "python",
   "name": "python2"
  },
  "language_info": {
   "codemirror_mode": {
    "name": "ipython",
    "version": 2
   },
   "file_extension": ".py",
   "mimetype": "text/x-python",
   "name": "python",
   "nbconvert_exporter": "python",
   "pygments_lexer": "ipython2",
   "version": "2.7.12"
  }
 },
 "nbformat": 4,
 "nbformat_minor": 1
}
