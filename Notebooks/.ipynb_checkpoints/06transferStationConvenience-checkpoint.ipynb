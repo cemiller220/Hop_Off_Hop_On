{
 "cells": [
  {
   "cell_type": "code",
   "execution_count": 1,
   "metadata": {
    "collapsed": true
   },
   "outputs": [],
   "source": [
    "import pandas as pd\n",
    "from ast import literal_eval\n",
    "import itertools\n",
    "import time"
   ]
  },
  {
   "cell_type": "markdown",
   "metadata": {},
   "source": [
    "# Finding Most Convenient Transfer Station\n",
    "\n",
    "To find the most convenient transfer station, I look at all the possible transfer stations between two subway lines. \n",
    "\n",
    "For each station, I calculate:\n",
    "- How many stops between the starting station and the transfer on the first line\n",
    "- How many stops between the transfer and the ending station on the second line\n",
    "\n",
    "From this I can determine the shortest trip (in terms of number of stops) and therefore the most convenient transfer station.\n",
    "\n",
    "For some trips, two or more stations are equally convenient (the same number of stops). I have added in a 'value' parameter which is equal to 1/(# of convenient stops) to weight these differently."
   ]
  },
  {
   "cell_type": "code",
   "execution_count": 55,
   "metadata": {
    "collapsed": false
   },
   "outputs": [],
   "source": [
    "j=1\n",
    "trip_data = pd.read_csv('../Data/Filtered/trip_data_filtered%d.csv'%j,usecols=['pickup_datetime','dropoff_datetime','passenger_count','trip_time_in_secs','trip_distance','pickup_longitude','pickup_latitude','dropoff_longitude','dropoff_latitude','stop_id_start','stop_name_start','stop_lat_start','stop_lon_start','lines_start','stop_id_end','stop_name_end','stop_lat_end','stop_lon_end','lines_end','dist_start','dist_end','num_transfers'],parse_dates=['pickup_datetime','dropoff_datetime'],infer_datetime_format=True)\n",
    "trip_data['lines_start'] = trip_data['lines_start'].apply(literal_eval)\n",
    "trip_data['lines_end'] = trip_data['lines_end'].apply(literal_eval)\n",
    "\n",
    "transfers = pd.read_csv('../Data/transfers_updated2.txt',usecols=['from_stop_id','to_stop_id','start_line','end_line'])\n",
    "\n",
    "lines_data = pd.read_csv('../Data/ordered_stops.txt',usecols=['route_id','stop_id','stop_sequence'])\n",
    "\n",
    "stops = pd.read_csv('../Data/stops_updated.txt',usecols=['stop_id','parent_station'])"
   ]
  },
  {
   "cell_type": "code",
   "execution_count": 36,
   "metadata": {
    "collapsed": false
   },
   "outputs": [],
   "source": [
    "lines_data = lines_data.merge(stops[['stop_id','parent_station']],on='stop_id')\n",
    "lines_data['dir_route_id'] = lines_data['route_id']+lines_data['stop_id'].str[-1]"
   ]
  },
  {
   "cell_type": "code",
   "execution_count": 37,
   "metadata": {
    "collapsed": true
   },
   "outputs": [],
   "source": [
    "#trip_data = trip_data.loc[:100]"
   ]
  },
  {
   "cell_type": "code",
   "execution_count": 38,
   "metadata": {
    "collapsed": false
   },
   "outputs": [],
   "source": [
    "def find_transfer_stations(start_lines,end_lines):\n",
    "    '''find all stations that you can transfer between start and end train lines'''\n",
    "    pairs = itertools.product(start_lines,end_lines)\n",
    "    transfer_lines = pd.DataFrame.from_records(pairs,columns=['start_line','end_line'])\n",
    "    transfer_stations = transfers.merge(transfer_lines,on=['start_line','end_line']).groupby(['from_stop_id','to_stop_id'])\n",
    "    transfer_stations = pd.DataFrame.from_records(transfer_stations.groups.keys(),columns=['from_stop_id','to_stop_id'])\n",
    "    return transfer_stations"
   ]
  },
  {
   "cell_type": "code",
   "execution_count": 39,
   "metadata": {
    "collapsed": false
   },
   "outputs": [],
   "source": [
    "def convenient_transfers(start_station,transfer_stations,end_station):\n",
    "    '''Find the most convenient transfer station(s) in the transfer_stations list'''\n",
    "    start_lines = lines_data[(lines_data['stop_id']==start_station) | (lines_data['parent_station']==start_station)]\n",
    "    start_transfer_lines = lines_data[(lines_data['stop_id']).isin(transfer_stations['from_stop_id']) | (lines_data['parent_station']).isin(transfer_stations['from_stop_id'])]\n",
    "    path1 = start_lines.merge(start_transfer_lines,on='dir_route_id',suffixes=('_start','_start_transfer'))\n",
    "    path1['num_of_stops'] = path1['stop_sequence_start_transfer'] - path1['stop_sequence_start']\n",
    "    path1 = path1[path1['num_of_stops']>0]\n",
    "    \n",
    "    end_lines = lines_data[(lines_data['stop_id']==end_station) | (lines_data['parent_station']==end_station)]\n",
    "    end_transfer_lines = lines_data[(lines_data['stop_id']).isin(transfer_stations['to_stop_id']) | (lines_data['parent_station']).isin(transfer_stations['to_stop_id'])]\n",
    "    path2 = end_transfer_lines.merge(end_lines,on='dir_route_id',suffixes=('_end_transfer','_end'))\n",
    "    path2['num_of_stops'] = path2['stop_sequence_end'] - path2['stop_sequence_end_transfer']\n",
    "    path2 = path2[path2['num_of_stops']>0]\n",
    "    \n",
    "    trips = path1.merge(transfer_stations,left_on='parent_station_start_transfer',right_on='from_stop_id').merge(path2,left_on='to_stop_id',right_on='parent_station_end_transfer',suffixes=('_1','_2'))\n",
    "    trips['num_of_stops'] = trips['num_of_stops_1'] + trips['num_of_stops_2']\n",
    "    trips = trips[trips['num_of_stops'] == trips['num_of_stops'].min()]\n",
    "    \n",
    "    return trips"
   ]
  },
  {
   "cell_type": "code",
   "execution_count": 47,
   "metadata": {
    "collapsed": false
   },
   "outputs": [],
   "source": [
    "def find_convenience(start_station,start_lines,end_station,end_lines):\n",
    "    result = pd.DataFrame(columns=['stop_id_start','stop_id_end',\n",
    "                                      'stop_id_start_transfer','stop_id_end_transfer','num_of_stops_1','num_of_stops_2','num_of_stops','value'])\n",
    "    \n",
    "    transfer_stations = find_transfer_stations(start_lines,end_lines)\n",
    "    convenient_stations = convenient_transfers(start_station,transfer_stations,end_station)\n",
    "    convenient_stations = convenient_stations[['from_stop_id','to_stop_id','num_of_stops_1','num_of_stops_2','num_of_stops']].drop_duplicates().reset_index(drop=True)\n",
    "    if len(convenient_stations)!=0: #if len=0 then not actually a transfer (starting or ending station is a transfer station)\n",
    "        convenient_stations['value'] = 1.0/float(len(convenient_stations))\n",
    "    for i in xrange(len(convenient_stations)):\n",
    "        result = result.append(pd.DataFrame([(start_station,end_station,\n",
    "                                              convenient_stations.loc[i]['from_stop_id'],\n",
    "                                              convenient_stations.loc[i]['to_stop_id'],\n",
    "                                              convenient_stations.loc[i]['num_of_stops_1'],\n",
    "                                              convenient_stations.loc[i]['num_of_stops_2'],\n",
    "                                              convenient_stations.loc[i]['num_of_stops'],\n",
    "                                              convenient_stations.loc[i]['value'])],\n",
    "                                            columns=['stop_id_start','stop_id_end',\n",
    "                                                     'stop_id_start_transfer','stop_id_end_transfer','num_of_stops_1','num_of_stops_2','num_of_stops','value']))\n",
    "    return result"
   ]
  },
  {
   "cell_type": "markdown",
   "metadata": {},
   "source": [
    "The data contains many taxi trips that contain the same starting and ending stations. I filter out the unique trips to determine the convenient stations and then recombine them to the full data set."
   ]
  },
  {
   "cell_type": "code",
   "execution_count": 48,
   "metadata": {
    "collapsed": false
   },
   "outputs": [],
   "source": [
    "unique_trips = trip_data[['stop_id_start','lines_start','stop_id_end','lines_end']].drop_duplicates(['stop_id_start','stop_id_end']).reset_index()"
   ]
  },
  {
   "cell_type": "code",
   "execution_count": 49,
   "metadata": {
    "collapsed": false
   },
   "outputs": [],
   "source": [
    "convenient = pd.DataFrame(columns=['stop_id_start','stop_id_end',\n",
    "                                                   'stop_id_start_transfer','stop_id_end_transfer','num_of_stops_1','num_of_stops_2','num_of_stops','value'])\n",
    "for i in xrange(len(unique_trips)):\n",
    "    convenient = convenient.append(find_convenience(unique_trips.loc[i]['stop_id_start'],unique_trips.loc[i]['lines_start'],\n",
    "                                                    unique_trips.loc[i]['stop_id_end'],unique_trips.loc[i]['lines_end']))"
   ]
  },
  {
   "cell_type": "code",
   "execution_count": 50,
   "metadata": {
    "collapsed": false
   },
   "outputs": [],
   "source": [
    "trip_data = trip_data.merge(convenient,on=['stop_id_start','stop_id_end'])"
   ]
  },
  {
   "cell_type": "code",
   "execution_count": 257,
   "metadata": {
    "collapsed": false
   },
   "outputs": [],
   "source": [
    "trip_data.to_csv('../Data/Convenience/trip_data_convenience%d.csv'%j)"
   ]
  },
  {
   "cell_type": "code",
   "execution_count": null,
   "metadata": {
    "collapsed": true
   },
   "outputs": [],
   "source": []
  }
 ],
 "metadata": {
  "kernelspec": {
   "display_name": "Python 2",
   "language": "python",
   "name": "python2"
  },
  "language_info": {
   "codemirror_mode": {
    "name": "ipython",
    "version": 2
   },
   "file_extension": ".py",
   "mimetype": "text/x-python",
   "name": "python",
   "nbconvert_exporter": "python",
   "pygments_lexer": "ipython2",
   "version": "2.7.12"
  }
 },
 "nbformat": 4,
 "nbformat_minor": 1
}
