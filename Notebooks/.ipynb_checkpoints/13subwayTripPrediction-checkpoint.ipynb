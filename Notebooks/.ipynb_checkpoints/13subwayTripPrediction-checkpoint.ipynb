{
 "cells": [
  {
   "cell_type": "code",
   "execution_count": 19,
   "metadata": {
    "collapsed": true
   },
   "outputs": [],
   "source": [
    "import pandas as pd\n",
    "import numpy as np\n",
    "import re\n",
    "import time\n",
    "import pickle\n",
    "from bisect import bisect\n",
    "from ast import literal_eval"
   ]
  },
  {
   "cell_type": "code",
   "execution_count": 80,
   "metadata": {
    "collapsed": false
   },
   "outputs": [],
   "source": [
    "stop_times = pd.read_csv('../Data/stop_times_updated2.txt',usecols=['trip_id','stop_id','stop_sequence','arrival_seconds','departure_seconds'])\n",
    "calendar = pd.read_csv('../Data/calendar.txt', usecols=['service_id','monday','saturday','sunday']).rename(columns={'monday': 'weekday'})\n",
    "trips = pd.read_csv('../Data/trips.txt',usecols=['route_id','service_id','trip_id'])\n",
    "stops = pd.read_csv('../Data/stops_updated.txt',usecols=['stop_id','stop_name','stop_lat','stop_lon','location_type','parent_station','lines'])\n",
    "stops['lines'] = stops['lines'].apply(literal_eval)\n",
    "transfers = pd.read_csv('../Data/transfers_updated2.txt', usecols=['from_stop_id','to_stop_id','start_line','end_line'])"
   ]
  },
  {
   "cell_type": "code",
   "execution_count": 81,
   "metadata": {
    "collapsed": true
   },
   "outputs": [],
   "source": [
    "start = '121'\n",
    "end = '217'\n",
    "day='sunday'\n",
    "time_wanted = '8:00 am'"
   ]
  },
  {
   "cell_type": "code",
   "execution_count": 84,
   "metadata": {
    "collapsed": false
   },
   "outputs": [
    {
     "data": {
      "text/plain": [
       "(  route_id    service_id                      trip_id\n",
       " 0        7  A20160612SUN  A20160612SUN_001150_7..S97R\n",
       " 1        7  A20160612SUN  A20160612SUN_006150_7..N97R\n",
       " 2        7  A20160612SUN  A20160612SUN_012000_7..S97R\n",
       " 3        7  A20160612SUN  A20160612SUN_017650_7..N97R\n",
       " 4        7  A20160612SUN  A20160612SUN_024000_7..S97R,\n",
       "      service_id  weekday  saturday  sunday\n",
       " 0  A20160612WKD        1         0       0\n",
       " 1  A20160612SAT        0         1       0\n",
       " 2  A20160612SUN        0         0       1\n",
       " 3  B20160612WKD        1         0       0\n",
       " 4  B20160612SAT        0         1       0,\n",
       "                        trip_id stop_id  stop_sequence  arrival_seconds  \\\n",
       " 0  A20160612SUN_001150_7..S97R    701S              1              690   \n",
       " 1  A20160612SUN_001150_7..S97R    702S              2              840   \n",
       " 2  A20160612SUN_001150_7..S97R    705S              3              930   \n",
       " 3  A20160612SUN_001150_7..S97R    706S              4              990   \n",
       " 4  A20160612SUN_001150_7..S97R    707S              5             1050   \n",
       " \n",
       "    departure_seconds  \n",
       " 0                690  \n",
       " 1                840  \n",
       " 2                930  \n",
       " 3                990  \n",
       " 4               1050  )"
      ]
     },
     "execution_count": 84,
     "metadata": {},
     "output_type": "execute_result"
    }
   ],
   "source": [
    "trips.head(), calendar.head(), stop_times.head()"
   ]
  },
  {
   "cell_type": "code",
   "execution_count": 87,
   "metadata": {
    "collapsed": false
   },
   "outputs": [],
   "source": []
  },
  {
   "cell_type": "code",
   "execution_count": 22,
   "metadata": {
    "collapsed": true
   },
   "outputs": [],
   "source": [
    "def time_to_seconds(time):\n",
    "    am_pm = time.split()\n",
    "    hr_min = map(int,am_pm[0].split(':'))\n",
    "    if hr_min[0] == 12:\n",
    "        hr_min[0] = 0\n",
    "    if am_pm[1] == 'am':\n",
    "        return hr_min[0]*3600 + hr_min[1]*60\n",
    "    elif am_pm[1] == 'pm':\n",
    "        return hr_min[0]*3600 + (12*3600) + hr_min[1]*60"
   ]
  },
  {
   "cell_type": "code",
   "execution_count": 23,
   "metadata": {
    "collapsed": true
   },
   "outputs": [],
   "source": [
    "def find_transfer_stations(start_lines,end_lines):\n",
    "    transfer_stations = transfers[(transfers['start_line'].isin(start_lines)) & (transfers['end_line'].isin(end_lines))].drop_duplicates()\n",
    "    return transfer_stations\n",
    "\n",
    "#will we want to keep same station/different line as separate row or drop it? keep...?"
   ]
  },
  {
   "cell_type": "code",
   "execution_count": 56,
   "metadata": {
    "collapsed": true
   },
   "outputs": [],
   "source": [
    "def get_trip(start,end,day,time):\n",
    "    #get which trips are on specified day (weekday/saturday/sunday)\n",
    "    service_ids = calendar[calendar[day]==1]['service_id']\n",
    "    trip_ids = trips[trips['service_id'].isin(service_ids)]['trip_id']\n",
    "    \n",
    "    #get all times up to 1 hour after wanted time \n",
    "    child_stops_start = stops[stops['parent_station']==start]['stop_id']\n",
    "    start_times = stop_times[(stop_times['stop_id'].isin(child_stops_start)) & \n",
    "                             (stop_times['trip_id'].isin(trip_ids)) & \n",
    "                             (stop_times['departure_seconds'] >= time) &\n",
    "                             (stop_times['departure_seconds'] <= time+3600)][['trip_id','stop_id','stop_sequence','departure_seconds']]\n",
    "    \n",
    "    child_stops_end = stops[stops['parent_station']==end]['stop_id']\n",
    "    end_times = stop_times[(stop_times['stop_id'].isin(child_stops_end)) & \n",
    "                           (stop_times['trip_id'].isin(start_times['trip_id']))][['trip_id','stop_id','stop_sequence','arrival_seconds']]\n",
    "    \n",
    "    #pick correct direction\n",
    "    trip_times = pd.merge(start_times,end_times, on='trip_id')\n",
    "    trip_times = trip_times[trip_times['stop_sequence_x'] < trip_times['stop_sequence_y']]\n",
    "    trip = trip_times.sort_values('departure_seconds').reset_index(drop=True).loc[0]\n",
    "    \n",
    "    return trip"
   ]
  },
  {
   "cell_type": "code",
   "execution_count": null,
   "metadata": {
    "collapsed": true
   },
   "outputs": [],
   "source": []
  },
  {
   "cell_type": "code",
   "execution_count": 25,
   "metadata": {
    "collapsed": false
   },
   "outputs": [],
   "source": [
    "time = time_to_seconds(time_wanted)\n",
    "start_lines = stops[stops['stop_id'] == start]['lines'].values[0]\n",
    "end_lines = stops[stops['stop_id'] == end]['lines'].values[0]\n",
    "direct_lines = list(set(start_lines).intersection(end_lines))"
   ]
  },
  {
   "cell_type": "code",
   "execution_count": 57,
   "metadata": {
    "collapsed": false,
    "scrolled": false
   },
   "outputs": [
    {
     "name": "stdout",
     "output_type": "stream",
     "text": [
      "trip_id              A20160612SUN_045450_1..N02R\n",
      "stop_id_x                                   121N\n",
      "stop_sequence_x                               20\n",
      "departure_seconds                          28890\n",
      "stop_id_y                                   120N\n",
      "stop_sequence_y                               21\n",
      "arrival_seconds                            28980\n",
      "Name: 0, dtype: object\n",
      "trip_id              A20160612SUN_045150_2..N01R\n",
      "stop_id_x                                   120N\n",
      "stop_sequence_x                               25\n",
      "departure_seconds                          29730\n",
      "stop_id_y                                   217N\n",
      "stop_sequence_y                               35\n",
      "arrival_seconds                            30840\n",
      "Name: 0, dtype: object\n",
      "12.5 minutes\n",
      "trip_id              A20160612SUN_045450_1..N02R\n",
      "stop_id_x                                   121N\n",
      "stop_sequence_x                               20\n",
      "departure_seconds                          28890\n",
      "stop_id_y                                   120N\n",
      "stop_sequence_y                               21\n",
      "arrival_seconds                            28980\n",
      "Name: 0, dtype: object\n",
      "trip_id              A20160612SUN_045150_2..N01R\n",
      "stop_id_x                                   120N\n",
      "stop_sequence_x                               25\n",
      "departure_seconds                          29730\n",
      "stop_id_y                                   217N\n",
      "stop_sequence_y                               35\n",
      "arrival_seconds                            30840\n",
      "Name: 0, dtype: object\n",
      "12.5 minutes\n",
      "trip_id              A20160612SUN_045450_1..N02R\n",
      "stop_id_x                                   121N\n",
      "stop_sequence_x                               20\n",
      "departure_seconds                          28890\n",
      "stop_id_y                                   120N\n",
      "stop_sequence_y                               21\n",
      "arrival_seconds                            28980\n",
      "Name: 0, dtype: object\n",
      "trip_id              A20160612SUN_045150_2..N01R\n",
      "stop_id_x                                   120N\n",
      "stop_sequence_x                               25\n",
      "departure_seconds                          29730\n",
      "stop_id_y                                   217N\n",
      "stop_sequence_y                               35\n",
      "arrival_seconds                            30840\n",
      "Name: 0, dtype: object\n",
      "12.5 minutes\n",
      "trip_id              A20160612SUN_045450_1..N02R\n",
      "stop_id_x                                   121N\n",
      "stop_sequence_x                               20\n",
      "departure_seconds                          28890\n",
      "stop_id_y                                   120N\n",
      "stop_sequence_y                               21\n",
      "arrival_seconds                            28980\n",
      "Name: 0, dtype: object\n",
      "trip_id              A20160612SUN_045150_2..N01R\n",
      "stop_id_x                                   120N\n",
      "stop_sequence_x                               25\n",
      "departure_seconds                          29730\n",
      "stop_id_y                                   217N\n",
      "stop_sequence_y                               35\n",
      "arrival_seconds                            30840\n",
      "Name: 0, dtype: object\n",
      "12.5 minutes\n",
      "1 loop, best of 3: 288 ms per loop\n"
     ]
    }
   ],
   "source": [
    "%%timeit\n",
    "\n",
    "routes = []\n",
    "if direct_lines == []:\n",
    "    transfer_stations = find_transfer_stations(start_lines,end_lines)\n",
    "    if transfer_stations.empty: #multiple transfers needed\n",
    "        routes.append(['','','', '', '', '', '', ''])\n",
    "        page='multiple'\n",
    "    else:\n",
    "        for transfer in transfer_stations.values: #0: from_stop_id, 1: to_stop_id, 2: from_line, 3: to_line\n",
    "            trip1 = get_trip(start,transfer[0],day,time)\n",
    "            if trip1.empty:\n",
    "                continue\n",
    "                \n",
    "            trip2 = get_trip(transfer[1],end,day,trip1['arrival_seconds'])\n",
    "            if trip2.empty:\n",
    "                continue\n",
    "            \n",
    "            print trip1\n",
    "            print trip2\n",
    "            print (trip2['departure_seconds'] - trip1['arrival_seconds']) / 60.0, 'minutes'\n",
    "            break\n",
    "    \n"
   ]
  },
  {
   "cell_type": "code",
   "execution_count": 43,
   "metadata": {
    "collapsed": false
   },
   "outputs": [
    {
     "data": {
      "text/plain": [
       "28800"
      ]
     },
     "execution_count": 43,
     "metadata": {},
     "output_type": "execute_result"
    }
   ],
   "source": [
    "time"
   ]
  }
 ],
 "metadata": {
  "kernelspec": {
   "display_name": "Python 2",
   "language": "python",
   "name": "python2"
  },
  "language_info": {
   "codemirror_mode": {
    "name": "ipython",
    "version": 2
   },
   "file_extension": ".py",
   "mimetype": "text/x-python",
   "name": "python",
   "nbconvert_exporter": "python",
   "pygments_lexer": "ipython2",
   "version": "2.7.12"
  }
 },
 "nbformat": 4,
 "nbformat_minor": 1
}
