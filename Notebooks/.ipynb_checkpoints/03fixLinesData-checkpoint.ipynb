{
 "cells": [
  {
   "cell_type": "code",
   "execution_count": 1,
   "metadata": {
    "collapsed": true
   },
   "outputs": [],
   "source": [
    "import pandas as pd\n",
    "import itertools\n",
    "from ast import literal_eval"
   ]
  },
  {
   "cell_type": "markdown",
   "metadata": {},
   "source": [
    "After parsing through which lines regularly stop at which station, I can correct the transfers and stops data files to only show the common lines for each station."
   ]
  },
  {
   "cell_type": "code",
   "execution_count": 2,
   "metadata": {
    "collapsed": false
   },
   "outputs": [],
   "source": [
    "transfers = pd.read_csv('../Data/transfers_updated.txt')\n",
    "stops = pd.read_csv('../Data/stops_updated.txt')\n",
    "linesData = pd.read_csv('../Data/ordered_stops.txt')\n",
    "trips = pd.read_csv('../Data/trips.txt')\n",
    "\n",
    "del stops['Unnamed: 0']\n",
    "del stops['lines']\n",
    "del linesData['Unnamed: 0']\n",
    "del transfers['Unnamed: 0']\n",
    "del transfers['start_lines']\n",
    "del transfers['end_lines']"
   ]
  },
  {
   "cell_type": "code",
   "execution_count": 3,
   "metadata": {
    "collapsed": false
   },
   "outputs": [],
   "source": [
    "linesData = linesData.merge(stops[['stop_id','parent_station']],on='stop_id')"
   ]
  },
  {
   "cell_type": "code",
   "execution_count": 4,
   "metadata": {
    "collapsed": false
   },
   "outputs": [],
   "source": [
    "def find_train_lines(stop):\n",
    "    times = linesData[(linesData['parent_station']==stop) | (linesData['stop_id']==stop)]\n",
    "    routes = times.groupby('route_id').size().index\n",
    "    return list(routes)"
   ]
  },
  {
   "cell_type": "code",
   "execution_count": 5,
   "metadata": {
    "collapsed": false
   },
   "outputs": [],
   "source": [
    "transfers['start_lines'] = transfers.apply(lambda x: find_train_lines(x['from_stop_id']),axis=1)\n",
    "transfers['end_lines'] = transfers.apply(lambda x: find_train_lines(x['to_stop_id']),axis=1)\n",
    "transfers.to_csv('../Data/transfers_updated.txt')"
   ]
  },
  {
   "cell_type": "code",
   "execution_count": 6,
   "metadata": {
    "collapsed": false
   },
   "outputs": [],
   "source": [
    "stops['lines'] = stops.apply(lambda x: find_train_lines(x['stop_id']),axis=1)\n",
    "stops.to_csv('../Data/stops_updated.txt')"
   ]
  },
  {
   "cell_type": "markdown",
   "metadata": {},
   "source": [
    "Below I'm creating a second version of the transfers data, which lists every combination of transfer for each station separately instead of as a list."
   ]
  },
  {
   "cell_type": "code",
   "execution_count": 7,
   "metadata": {
    "collapsed": false
   },
   "outputs": [],
   "source": [
    "#transfers = pd.read_csv('../Data/transfers_updated.txt',usecols=['from_stop_id','to_stop_id','start_lines','end_lines'])\n",
    "#transfers['start_lines'] = transfers['start_lines'].apply(literal_eval)\n",
    "#transfers['end_lines'] = transfers['end_lines'].apply(literal_eval)"
   ]
  },
  {
   "cell_type": "code",
   "execution_count": 8,
   "metadata": {
    "collapsed": false
   },
   "outputs": [],
   "source": [
    "transfers_new = pd.DataFrame(columns=['from_stop_id','to_stop_id','start_line','end_line'])\n",
    "for i in xrange(len(transfers)):\n",
    "    pairs = list(itertools.product(transfers.loc[i]['start_lines'],transfers.loc[i]['end_lines']))\n",
    "    for pair in pairs:\n",
    "        transfers_new = transfers_new.append(pd.DataFrame([(transfers.loc[i]['from_stop_id'],transfers.loc[i]['to_stop_id'],pair[0],pair[1])],columns=['from_stop_id','to_stop_id','start_line','end_line']))"
   ]
  },
  {
   "cell_type": "code",
   "execution_count": 9,
   "metadata": {
    "collapsed": false
   },
   "outputs": [],
   "source": [
    "transfers_new = transfers_new.reset_index(drop=True)"
   ]
  },
  {
   "cell_type": "code",
   "execution_count": 10,
   "metadata": {
    "collapsed": true
   },
   "outputs": [],
   "source": [
    "transfers_new.to_csv('../Data/transfers_updated2.txt')"
   ]
  }
 ],
 "metadata": {
  "kernelspec": {
   "display_name": "Python 2",
   "language": "python",
   "name": "python2"
  },
  "language_info": {
   "codemirror_mode": {
    "name": "ipython",
    "version": 2
   },
   "file_extension": ".py",
   "mimetype": "text/x-python",
   "name": "python",
   "nbconvert_exporter": "python",
   "pygments_lexer": "ipython2",
   "version": "2.7.12"
  }
 },
 "nbformat": 4,
 "nbformat_minor": 1
}
