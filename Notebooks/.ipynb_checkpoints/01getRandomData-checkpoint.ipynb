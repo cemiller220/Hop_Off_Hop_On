{
 "cells": [
  {
   "cell_type": "code",
   "execution_count": 5,
   "metadata": {
    "collapsed": false
   },
   "outputs": [],
   "source": [
    "import pandas as pd\n",
    "import random"
   ]
  },
  {
   "cell_type": "markdown",
   "metadata": {},
   "source": [
    "# Picking Random Data\n",
    "\n",
    "From preliminary data analysis, I've found ~25% of taxi trips start and end near subway stations and require transfers. I decided I want a set of about 1 million taxi trips to do my analysis with, so I need to start with about 4 million taxi trips.\n",
    "\n",
    "Since the taxi data is split into months, I took 350,000 random trips from each month to form a data set of 4,200,000 entries."
   ]
  },
  {
   "cell_type": "code",
   "execution_count": null,
   "metadata": {
    "collapsed": false
   },
   "outputs": [],
   "source": [
    "#for each month, get 350,000 random trips\n",
    "full_trip_data = pd.DataFrame(\n",
    "    columns=['pickup_datetime','dropoff_datetime','passenger_count','trip_time_in_secs',\n",
    "             'trip_distance','pickup_longitude','pickup_latitude','dropoff_longitude',\n",
    "             'dropoff_latitude'])\n",
    "for i in xrange(1,13):\n",
    "    trip_data = pd.read_csv('../Data/trip_data_%d.csv'%i)\n",
    "    idx = random.sample(xrange(1,len(trip_data)),350000)\n",
    "    trip_data2 = trip_data.loc[idx].reset_index(drop=True)\n",
    "    full_trip_data = full_trip_data.append(trip_data2,ignore_index=True) "
   ]
  },
  {
   "cell_type": "code",
   "execution_count": null,
   "metadata": {
    "collapsed": true
   },
   "outputs": [],
   "source": [
    "full_trip_data.to_csv('trip_data_all.csv')"
   ]
  },
  {
   "cell_type": "code",
   "execution_count": null,
   "metadata": {
    "collapsed": true
   },
   "outputs": [],
   "source": []
  },
  {
   "cell_type": "code",
   "execution_count": null,
   "metadata": {
    "collapsed": true
   },
   "outputs": [],
   "source": []
  },
  {
   "cell_type": "code",
   "execution_count": 1,
   "metadata": {
    "collapsed": false
   },
   "outputs": [
    {
     "name": "stderr",
     "output_type": "stream",
     "text": [
      "/opt/conda/lib/python2.7/site-packages/IPython/config.py:13: ShimWarning: The `IPython.config` package has been deprecated. You should import from traitlets.config instead.\n",
      "  \"You should import from traitlets.config instead.\", ShimWarning)\n",
      "/opt/conda/lib/python2.7/site-packages/IPython/utils/traitlets.py:5: UserWarning: IPython.utils.traitlets has moved to a top-level traitlets package.\n",
      "  warn(\"IPython.utils.traitlets has moved to a top-level traitlets package.\")\n"
     ]
    }
   ],
   "source": [
    "%load_ext sql"
   ]
  },
  {
   "cell_type": "code",
   "execution_count": null,
   "metadata": {
    "collapsed": true
   },
   "outputs": [],
   "source": [
    "data = pd.read_csv('sample.csv.nogit')\n",
    "%sql PERSIST sample\n",
    "%sql SELECT * FROM sample;"
   ]
  }
 ],
 "metadata": {
  "kernelspec": {
   "display_name": "Python 2",
   "language": "python",
   "name": "python2"
  },
  "language_info": {
   "codemirror_mode": {
    "name": "ipython",
    "version": 2
   },
   "file_extension": ".py",
   "mimetype": "text/x-python",
   "name": "python",
   "nbconvert_exporter": "python",
   "pygments_lexer": "ipython2",
   "version": "2.7.12"
  }
 },
 "nbformat": 4,
 "nbformat_minor": 1
}
