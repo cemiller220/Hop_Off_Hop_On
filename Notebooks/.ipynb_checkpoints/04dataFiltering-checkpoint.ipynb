{
 "cells": [
  {
   "cell_type": "code",
   "execution_count": 2,
   "metadata": {
    "collapsed": true
   },
   "outputs": [],
   "source": [
    "import pandas as pd\n",
    "import numpy as np\n",
    "import re\n",
    "import math\n",
    "from scipy import spatial\n",
    "import time\n",
    "from ast import literal_eval\n",
    "import itertools"
   ]
  },
  {
   "cell_type": "markdown",
   "metadata": {},
   "source": [
    "# Filtering Data\n",
    "\n",
    "Using the randomly picked 350,000 taxi trips from each month, we want to find which ones:\n",
    "- Start and end near subway stations \n",
    "- Require transfers"
   ]
  },
  {
   "cell_type": "code",
   "execution_count": 4,
   "metadata": {
    "collapsed": false
   },
   "outputs": [],
   "source": [
    "#load in data\n",
    "i=1\n",
    "tripData = pd.read_csv('../Data/trip_data_sample%d.csv'%i,\n",
    "                        usecols=['pickup_datetime','dropoff_datetime','passenger_count',\n",
    "                                 'trip_time_in_secs','trip_distance','pickup_longitude',\n",
    "                                 'pickup_latitude','dropoff_longitude','dropoff_latitude'])\n",
    "\n",
    "stationData = pd.read_csv('../Data/stops_updated.txt',\n",
    "                          usecols=['stop_id','stop_name','stop_lat','stop_lon','location_type',\n",
    "                                   'parent_station','lines'])\n",
    "stationData = stationData[stationData['location_type']==1]\n",
    "stationData['lines'] = stationData['lines'].apply(literal_eval)\n",
    "\n",
    "transfers = pd.read_csv('../Data/transfers_updated.txt',usecols = ['start_lines','end_lines'])"
   ]
  },
  {
   "cell_type": "markdown",
   "metadata": {},
   "source": [
    "We calculate the distance from each subway station to the starting and ending points of the taxi ride to pick out the closest station and then merge the details of the closest station to the taxi trip data."
   ]
  },
  {
   "cell_type": "code",
   "execution_count": 182,
   "metadata": {
    "collapsed": false
   },
   "outputs": [],
   "source": [
    "startDistances = pd.DataFrame(spatial.distance.cdist(np.column_stack((stationData['stop_lat'], stationData['stop_lon'])),np.column_stack((tripData['pickup_latitude'],tripData['pickup_longitude']))), index=stationData['stop_id'])\n",
    "endDistances = pd.DataFrame(spatial.distance.cdist(np.column_stack((stationData['stop_lat'], stationData['stop_lon'])),np.column_stack((tripData['dropoff_latitude'],tripData['dropoff_longitude']))), index=stationData['stop_id'])"
   ]
  },
  {
   "cell_type": "code",
   "execution_count": 183,
   "metadata": {
    "collapsed": false
   },
   "outputs": [],
   "source": [
    "tripData['starting_station'] = startDistances.idxmin()\n",
    "tripData['ending_station'] = endDistances.idxmin()"
   ]
  },
  {
   "cell_type": "code",
   "execution_count": 184,
   "metadata": {
    "collapsed": false
   },
   "outputs": [],
   "source": [
    "tripData = pd.merge(tripData,stationData[['stop_id','stop_name','stop_lat','stop_lon','lines']],left_on='starting_station',right_on='stop_id')\n",
    "tripData = pd.merge(tripData,stationData[['stop_id','stop_name','stop_lat','stop_lon','lines']],left_on='ending_station',right_on='stop_id',suffixes=('_start','_end'))\n",
    "del tripData['starting_station']\n",
    "del tripData['ending_station']"
   ]
  },
  {
   "cell_type": "markdown",
   "metadata": {},
   "source": [
    "Using the haversine function, we can calculate the distance in miles from the subway station"
   ]
  },
  {
   "cell_type": "code",
   "execution_count": 185,
   "metadata": {
    "collapsed": false
   },
   "outputs": [],
   "source": [
    "R = 3958.754641 #radius of earth in miles\n",
    "tripData['dist_start'] = 2*R*np.arctan2(np.sqrt(np.sin((np.radians(tripData['stop_lat_start'])-np.radians(tripData['pickup_latitude']))/2)**2 + \\\n",
    "                                                  np.cos(np.radians(tripData['pickup_latitude']))*np.cos(np.radians(tripData['stop_lat_start']))* \\\n",
    "                                                  np.sin((np.radians(tripData['stop_lon_start'])-np.radians(tripData['pickup_longitude']))/2)**2),\\\n",
    "                                        np.sqrt(1-(np.sin((np.radians(tripData['stop_lat_start'])-np.radians(tripData['pickup_latitude']))/2)**2 + \\\n",
    "                                                     np.cos(np.radians(tripData['pickup_latitude']))*np.cos(np.radians(tripData['stop_lat_start']))* \\\n",
    "                                                     np.sin((np.radians(tripData['stop_lon_start'])-np.radians(tripData['pickup_longitude']))/2)**2)))\n",
    "\n",
    "\n",
    "tripData['dist_end'] = 2*R*np.arctan2(np.sqrt(np.sin((np.radians(tripData['stop_lat_end'])-np.radians(tripData['dropoff_latitude']))/2)**2 + \\\n",
    "                                                  np.cos(np.radians(tripData['dropoff_latitude']))*np.cos(np.radians(tripData['stop_lat_end']))* \\\n",
    "                                                  np.sin((np.radians(tripData['stop_lon_end'])-np.radians(tripData['dropoff_longitude']))/2)**2),\\\n",
    "                                        np.sqrt(1-(np.sin((np.radians(tripData['stop_lat_end'])-np.radians(tripData['dropoff_latitude']))/2)**2 + \\\n",
    "                                                     np.cos(np.radians(tripData['dropoff_latitude']))*np.cos(np.radians(tripData['stop_lat_end']))* \\\n",
    "                                                     np.sin((np.radians(tripData['stop_lon_end'])-np.radians(tripData['dropoff_longitude']))/2)**2)))"
   ]
  },
  {
   "cell_type": "markdown",
   "metadata": {},
   "source": [
    "We can then see if there are any subway lines in common between the starting and ending station to see if a transfer is required, and if so if a single transfer can be made or if multiple transfers are required."
   ]
  },
  {
   "cell_type": "code",
   "execution_count": 186,
   "metadata": {
    "collapsed": true
   },
   "outputs": [],
   "source": [
    "transfer_list = []\n",
    "for j in xrange(len(transfers)):\n",
    "    combs = list(itertools.product(transfers.loc[j]['start_lines'],transfers.loc[j]['end_lines']))\n",
    "    for comb in combs:\n",
    "        if comb not in transfer_list:\n",
    "            transfer_list.append(comb)"
   ]
  },
  {
   "cell_type": "code",
   "execution_count": 187,
   "metadata": {
    "collapsed": false
   },
   "outputs": [],
   "source": [
    "def num_transfer(row):\n",
    "    direct_lines = list(set(row['lines_start']).intersection(row['lines_end']))\n",
    "    if direct_lines == []:\n",
    "        combs = list(itertools.product(row['lines_start'],row['lines_end']))\n",
    "        if set(transfer_list).isdisjoint(combs):\n",
    "            return 'multiple transfers'\n",
    "        else:\n",
    "            return 'single transfer'\n",
    "    else:\n",
    "        return 'direct'\n",
    "\n",
    "tripData['num_transfers'] = tripData.apply(num_transfer,axis=1)"
   ]
  },
  {
   "cell_type": "markdown",
   "metadata": {},
   "source": [
    "Finally, we filter out any trips that started or ended more than 0.25 miles (~5 minute walk) and any trips that have direct subway routes to get our final data set."
   ]
  },
  {
   "cell_type": "code",
   "execution_count": null,
   "metadata": {
    "collapsed": true
   },
   "outputs": [],
   "source": [
    "tripData.to_csv('../Data/Analyzed/trip_data_analyzed%d.csv'%i)"
   ]
  },
  {
   "cell_type": "code",
   "execution_count": 190,
   "metadata": {
    "collapsed": false
   },
   "outputs": [],
   "source": [
    "tripData = tripData[(tripData['dist_start']<0.25) & (tripData['dist_end']<0.25) & (tripData['num_transfers'] == 'single transfer')]"
   ]
  },
  {
   "cell_type": "code",
   "execution_count": 192,
   "metadata": {
    "collapsed": true
   },
   "outputs": [],
   "source": [
    "tripData.to_csv('../Data/Filtered/trip_data_filtered%d.csv'%i)"
   ]
  },
  {
   "cell_type": "code",
   "execution_count": null,
   "metadata": {
    "collapsed": true
   },
   "outputs": [],
   "source": []
  }
 ],
 "metadata": {
  "kernelspec": {
   "display_name": "Python 2",
   "language": "python",
   "name": "python2"
  },
  "language_info": {
   "codemirror_mode": {
    "name": "ipython",
    "version": 2
   },
   "file_extension": ".py",
   "mimetype": "text/x-python",
   "name": "python",
   "nbconvert_exporter": "python",
   "pygments_lexer": "ipython2",
   "version": "2.7.12"
  }
 },
 "nbformat": 4,
 "nbformat_minor": 1
}
