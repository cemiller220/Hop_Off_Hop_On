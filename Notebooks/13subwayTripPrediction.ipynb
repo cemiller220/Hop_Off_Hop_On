{
 "cells": [
  {
   "cell_type": "code",
   "execution_count": 1,
   "metadata": {
    "collapsed": true
   },
   "outputs": [],
   "source": [
    "import pandas as pd\n",
    "import numpy as np\n",
    "import pickle\n",
    "from bisect import bisect\n",
    "from ast import literal_eval\n",
    "import math"
   ]
  },
  {
   "cell_type": "code",
   "execution_count": 2,
   "metadata": {
    "collapsed": false
   },
   "outputs": [],
   "source": [
    "stop_times = pd.read_csv('../Data/stop_times_updated2.txt',usecols=['trip_id','stop_id','stop_sequence','arrival_seconds','departure_seconds'])\n",
    "calendar = pd.read_csv('../Data/calendar.txt', usecols=['service_id','monday','saturday','sunday']).rename(columns={'monday': 'weekday'})\n",
    "trips = pd.read_csv('../Data/trips.txt',usecols=['route_id','service_id','trip_id'])\n",
    "stops = pd.read_csv('../Data/stops_updated.txt',usecols=['stop_id','stop_name','stop_lat','stop_lon','location_type','parent_station','lines'])\n",
    "stops['lines'] = stops['lines'].apply(literal_eval)\n",
    "transfers = pd.read_csv('../Data/transfers_updated2.txt', usecols=['from_stop_id','to_stop_id','start_line','end_line'])\n",
    "trips_merged = pd.merge(trips,calendar, on='service_id')\n",
    "with open('../Models/fit_dict.pkl','r') as f:\n",
    "    fit = pickle.load(f)"
   ]
  },
  {
   "cell_type": "code",
   "execution_count": 3,
   "metadata": {
    "collapsed": true
   },
   "outputs": [],
   "source": [
    "def time_to_seconds(time):\n",
    "    am_pm = time.split()\n",
    "    hr_min = map(int,am_pm[0].split(':'))\n",
    "    if hr_min[0] == 12:\n",
    "        hr_min[0] = 0\n",
    "    if am_pm[1] == 'am':\n",
    "        return hr_min[0]*3600 + hr_min[1]*60\n",
    "    elif am_pm[1] == 'pm':\n",
    "        return hr_min[0]*3600 + (12*3600) + hr_min[1]*60"
   ]
  },
  {
   "cell_type": "code",
   "execution_count": 4,
   "metadata": {
    "collapsed": false
   },
   "outputs": [],
   "source": [
    "def seconds_to_time(seconds):\n",
    "    hour = seconds // 3600\n",
    "    minute = (seconds - hour*3600) // 60\n",
    "    second = seconds - hour*3600 - minute*60\n",
    "    if hour >= 24:\n",
    "        hour = hour - 24\n",
    "    return '%02d:%02d:%02d'%(hour,minute,second)"
   ]
  },
  {
   "cell_type": "code",
   "execution_count": 5,
   "metadata": {
    "collapsed": true
   },
   "outputs": [],
   "source": [
    "def find_transfer_stations(start_lines,end_lines):\n",
    "    transfer_stations = transfers[(transfers['start_line'].isin(start_lines)) & (transfers['end_line'].isin(end_lines))].drop_duplicates()\n",
    "    return transfer_stations"
   ]
  },
  {
   "cell_type": "code",
   "execution_count": 6,
   "metadata": {
    "collapsed": true
   },
   "outputs": [],
   "source": [
    "def get_trip_direct(start,end,day,time):\n",
    "    #get which trips are on specified day (weekday/saturday/sunday)\n",
    "    trip_ids = trips_merged[(trips_merged[day] == 1)]['trip_id']\n",
    "    \n",
    "    #get all times up to 1 hour after wanted time \n",
    "    child_stops_start = stops[stops['parent_station']==start]['stop_id']\n",
    "    start_times = stop_times[(stop_times['stop_id'].isin(child_stops_start)) & \n",
    "                             (stop_times['trip_id'].isin(trip_ids)) & \n",
    "                             (stop_times['departure_seconds'] >= time) &\n",
    "                             (stop_times['departure_seconds'] <= time+3600)][['trip_id','stop_id','stop_sequence','departure_seconds']]\n",
    "    \n",
    "    child_stops_end = stops[stops['parent_station']==end]['stop_id']\n",
    "    end_times = stop_times[(stop_times['stop_id'].isin(child_stops_end)) & \n",
    "                           (stop_times['trip_id'].isin(start_times['trip_id']))][['trip_id','stop_id','stop_sequence','arrival_seconds']]\n",
    "    \n",
    "    #pick correct direction\n",
    "    trip_times = pd.merge(start_times,end_times, on='trip_id')\n",
    "    trip_times = trip_times[trip_times['stop_sequence_x'] < trip_times['stop_sequence_y']]\n",
    "    if not trip_times.empty:\n",
    "        trip = trip_times.sort_values('departure_seconds').reset_index(drop=True).loc[0]\n",
    "    else:\n",
    "        trip = pd.DataFrame()\n",
    "    \n",
    "    return trip"
   ]
  },
  {
   "cell_type": "code",
   "execution_count": 7,
   "metadata": {
    "collapsed": true
   },
   "outputs": [],
   "source": [
    "def get_trip_line(start,end,line,day,time):\n",
    "    #get which trips are on specified day (weekday/saturday/sunday)\n",
    "    trip_ids = trips_merged[(trips_merged[day] == 1) & (trips_merged['route_id'] == line)]['trip_id']\n",
    "    \n",
    "    #get all times up to 1 hour after wanted time \n",
    "    child_stops_start = stops[stops['parent_station']==start]['stop_id']\n",
    "    start_times = stop_times[(stop_times['stop_id'].isin(child_stops_start)) & \n",
    "                             (stop_times['trip_id'].isin(trip_ids)) & \n",
    "                             (stop_times['departure_seconds'] >= time) &\n",
    "                             (stop_times['departure_seconds'] <= time+3600)][['trip_id','stop_id','stop_sequence','departure_seconds']]\n",
    "    \n",
    "    child_stops_end = stops[stops['parent_station']==end]['stop_id']\n",
    "    end_times = stop_times[(stop_times['stop_id'].isin(child_stops_end)) & \n",
    "                           (stop_times['trip_id'].isin(start_times['trip_id']))][['trip_id','stop_id','stop_sequence','arrival_seconds']]\n",
    "    \n",
    "    #pick correct direction\n",
    "    trip_times = pd.merge(start_times,end_times, on='trip_id')\n",
    "    trip_times = trip_times[trip_times['stop_sequence_x'] < trip_times['stop_sequence_y']]\n",
    "    trip = trip_times.sort_values('departure_seconds').reset_index(drop=True).loc[0]\n",
    "    \n",
    "    return trip"
   ]
  },
  {
   "cell_type": "code",
   "execution_count": 8,
   "metadata": {
    "collapsed": true
   },
   "outputs": [],
   "source": [
    "def get_stop_name(stop_id):\n",
    "    '''return station name from station id number'''\n",
    "    return stops[stops['stop_id'] == stop_id]['stop_name'].values[0]"
   ]
  },
  {
   "cell_type": "code",
   "execution_count": 9,
   "metadata": {
    "collapsed": false
   },
   "outputs": [],
   "source": [
    "def get_line(trip_id):\n",
    "    return trip_id.split('_')[2].split('..')[0]"
   ]
  },
  {
   "cell_type": "code",
   "execution_count": 61,
   "metadata": {
    "collapsed": true
   },
   "outputs": [],
   "source": [
    "def predict_crowdedness(stop_id,day,time):\n",
    "    if day == 'Saturday' or day == 'Sunday':\n",
    "        day = 'Weekend'\n",
    "    ranges = np.logspace(0,2.65,9)\n",
    "    with open('..//Models/fit_dict%s.pkl'%stop_id[0],'r') as f:\n",
    "        fit = pickle.load(f)\n",
    "    return bisect(ranges,fit[(stop_id,day)].predict(time)[0])+1"
   ]
  },
  {
   "cell_type": "code",
   "execution_count": 62,
   "metadata": {
    "collapsed": false,
    "scrolled": false
   },
   "outputs": [],
   "source": [
    "def calculate_routes(start,end,day,time_wanted):\n",
    "    weekdays = ['monday','tuesday','wednesday','thursday','friday']\n",
    "    if day in weekdays:\n",
    "        day = 'weekday'\n",
    "        \n",
    "    time = time_to_seconds(time_wanted)\n",
    "    start_lines = stops[stops['stop_id'] == start]['lines'].values[0]\n",
    "    end_lines = stops[stops['stop_id'] == end]['lines'].values[0]\n",
    "    direct_route = get_trip_direct(start,end,day,time)\n",
    "\n",
    "    routes = []\n",
    "    if direct_route.empty:\n",
    "        transfer_stations = find_transfer_stations(start_lines,end_lines)\n",
    "        if transfer_stations.empty: #multiple transfers needed\n",
    "            page='multiple'\n",
    "        else:\n",
    "            for transfer in transfer_stations.values: #0: from_stop_id, 1: to_stop_id, 2: from_line, 3: to_line\n",
    "                trip1 = get_trip_line(start,transfer[0],transfer[2],day,time)\n",
    "                if trip1.empty:\n",
    "                    continue\n",
    "\n",
    "                trip2 = get_trip_line(transfer[1],end,transfer[3],day,trip1['arrival_seconds'])\n",
    "                if trip2.empty:\n",
    "                    continue\n",
    "\n",
    "                crowd1 = predict_crowdedness(transfer[0],day.title(),trip1['arrival_seconds'])\n",
    "                crowd2 = predict_crowdedness(transfer[0],day.title(),trip1['departure_seconds'])\n",
    "                crowd_value = int(math.ceil((crowd1 + crowd2) / 2.0))\n",
    "\n",
    "\n",
    "                departure_time = seconds_to_time(trip1['departure_seconds'])\n",
    "                start_transfer_time = seconds_to_time(trip1['arrival_seconds'])\n",
    "                end_transfer_time = seconds_to_time(trip2['departure_seconds'])\n",
    "                arrival_time = seconds_to_time(trip2['arrival_seconds'])\n",
    "                start_transfer_station = get_stop_name(transfer[0]) + ', ' + get_line(trip1['trip_id']) + ' Train'\n",
    "                end_transfer_station = get_stop_name(transfer[1]) + ', ' + get_line(trip2['trip_id']) + ' Train'\n",
    "                wait_time = (trip2['departure_seconds'] - trip1['arrival_seconds']) / 60.0\n",
    "                total_time = (trip2['arrival_seconds'] - trip1['departure_seconds']) / 60.0\n",
    "\n",
    "                routes.append([departure_time, start_transfer_time, start_transfer_station, wait_time, crowd_value, end_transfer_station, end_transfer_time, arrival_time, total_time])\n",
    "                page = 'transfer'\n",
    "    else:\n",
    "        departure_time = seconds_to_time(direct_route['departure_seconds'])\n",
    "        arrival_time = seconds_to_time(direct_route['arrival_seconds'])\n",
    "        total_time = (direct_route['arrival_seconds'] - direct_route['departure_seconds']) / 60.0\n",
    "        routes.append([departure_time,'','','','','','',arrival_time,total_time])\n",
    "        page = 'direct'\n",
    "\n",
    "    return routes, page"
   ]
  },
  {
   "cell_type": "code",
   "execution_count": 63,
   "metadata": {
    "collapsed": false
   },
   "outputs": [
    {
     "data": {
      "text/plain": [
       "([['08:01:30',\n",
       "   '08:03:00',\n",
       "   '96 St, 1 Train',\n",
       "   12.5,\n",
       "   5,\n",
       "   '96 St, 2 Train',\n",
       "   '08:15:30',\n",
       "   '08:34:00',\n",
       "   32.5],\n",
       "  ['08:08:00',\n",
       "   '08:10:30',\n",
       "   '72 St, 1 Train',\n",
       "   2.5,\n",
       "   5,\n",
       "   '72 St, 2 Train',\n",
       "   '08:13:00',\n",
       "   '08:34:00',\n",
       "   26.0],\n",
       "  ['08:08:00',\n",
       "   '08:17:00',\n",
       "   'Times Sq - 42 St, 1 Train',\n",
       "   7.0,\n",
       "   8,\n",
       "   'Times Sq - 42 St, 2 Train',\n",
       "   '08:24:00',\n",
       "   '08:49:00',\n",
       "   41.0],\n",
       "  ['08:08:00',\n",
       "   '08:18:30',\n",
       "   '34 St - Penn Station, 1 Train',\n",
       "   4.5,\n",
       "   6,\n",
       "   '34 St - Penn Station, 2 Train',\n",
       "   '08:23:00',\n",
       "   '08:49:00',\n",
       "   41.0],\n",
       "  ['08:08:00',\n",
       "   '08:22:30',\n",
       "   '14 St, 1 Train',\n",
       "   13.0,\n",
       "   6,\n",
       "   '14 St, 2 Train',\n",
       "   '08:35:30',\n",
       "   '09:04:00',\n",
       "   56.0],\n",
       "  ['08:08:00',\n",
       "   '08:29:30',\n",
       "   'Chambers St, 1 Train',\n",
       "   2.0,\n",
       "   5,\n",
       "   'Chambers St, 2 Train',\n",
       "   '08:31:30',\n",
       "   '09:04:00',\n",
       "   56.0]],\n",
       " 'transfer')"
      ]
     },
     "execution_count": 63,
     "metadata": {},
     "output_type": "execute_result"
    }
   ],
   "source": [
    "start = '121'\n",
    "end = '217'\n",
    "day='sunday'\n",
    "time_wanted = '8:00 am'\n",
    "calculate_routes(start,end,day,time_wanted)"
   ]
  },
  {
   "cell_type": "code",
   "execution_count": null,
   "metadata": {
    "collapsed": true
   },
   "outputs": [],
   "source": []
  }
 ],
 "metadata": {
  "kernelspec": {
   "display_name": "Python 2",
   "language": "python",
   "name": "python2"
  },
  "language_info": {
   "codemirror_mode": {
    "name": "ipython",
    "version": 2
   },
   "file_extension": ".py",
   "mimetype": "text/x-python",
   "name": "python",
   "nbconvert_exporter": "python",
   "pygments_lexer": "ipython2",
   "version": "2.7.12"
  }
 },
 "nbformat": 4,
 "nbformat_minor": 1
}
