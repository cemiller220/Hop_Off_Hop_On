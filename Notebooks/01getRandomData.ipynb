{
 "cells": [
  {
   "cell_type": "code",
   "execution_count": 9,
   "metadata": {
    "collapsed": false
   },
   "outputs": [],
   "source": [
    "import pandas as pd\n",
    "import random"
   ]
  },
  {
   "cell_type": "markdown",
   "metadata": {},
   "source": [
    "# Picking Random Data\n",
    "\n",
    "From preliminary data analysis, I've found ~25% of taxi trips start and end near subway stations and require transfers. I decided I want a set of about 1 million taxi trips to do my analysis with, so I need to start with about 4 million taxi trips.\n",
    "\n",
    "Since the taxi data is split into months, I took 350,000 random trips from each month to form a data set of 4,200,000 entries."
   ]
  },
  {
   "cell_type": "code",
   "execution_count": null,
   "metadata": {
    "collapsed": false
   },
   "outputs": [],
   "source": [
    "#for each month, get 350,000 random trips\n",
    "for i in xrange(1,2):\n",
    "    trip_data = pd.read_csv('../Data/trip_data_%d.csv'%i)\n",
    "    idx = random.sample(xrange(1,len(trip_data)),2)\n",
    "    trip_data = trip_data.loc[idx].reset_index(drop=True)\n",
    "    trip_data.to_csv('trip_data_sample%d'%i)"
   ]
  }
 ],
 "metadata": {
  "kernelspec": {
   "display_name": "Python 2",
   "language": "python",
   "name": "python2"
  },
  "language_info": {
   "codemirror_mode": {
    "name": "ipython",
    "version": 2
   },
   "file_extension": ".py",
   "mimetype": "text/x-python",
   "name": "python",
   "nbconvert_exporter": "python",
   "pygments_lexer": "ipython2",
   "version": "2.7.12"
  }
 },
 "nbformat": 4,
 "nbformat_minor": 1
}
